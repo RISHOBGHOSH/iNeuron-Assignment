{
 "cells": [
  {
   "cell_type": "code",
   "execution_count": 20,
   "id": "9aa32d74",
   "metadata": {},
   "outputs": [],
   "source": [
    "\"\"\"Question 1:\n",
    "Define a class with a generator which can iterate the numbers, which are divisible by\n",
    "7, between a given range 0 and n.\"\"\"\n",
    "class div_by7:\n",
    "    try:\n",
    "        def __init__(self , n):\n",
    "            self.n = n\n",
    "        def div(self):\n",
    "            for i in range(0,self.n+1):\n",
    "                if i%7 == 0:\n",
    "                    yield i\n",
    "    except Exception as e :\n",
    "        print(e)\n",
    "            "
   ]
  },
  {
   "cell_type": "code",
   "execution_count": 21,
   "id": "4167356f",
   "metadata": {},
   "outputs": [],
   "source": [
    "s = div_by7(20)"
   ]
  },
  {
   "cell_type": "code",
   "execution_count": 22,
   "id": "2ec8cce4",
   "metadata": {},
   "outputs": [
    {
     "name": "stdout",
     "output_type": "stream",
     "text": [
      "0\n",
      "7\n",
      "14\n"
     ]
    }
   ],
   "source": [
    "for i in s.div():\n",
    "    print(i)"
   ]
  },
  {
   "cell_type": "code",
   "execution_count": 28,
   "id": "64fa4a8a",
   "metadata": {},
   "outputs": [],
   "source": [
    "s1 = iter(s.div())"
   ]
  },
  {
   "cell_type": "code",
   "execution_count": 29,
   "id": "26a4b3c9",
   "metadata": {},
   "outputs": [
    {
     "data": {
      "text/plain": [
       "0"
      ]
     },
     "execution_count": 29,
     "metadata": {},
     "output_type": "execute_result"
    }
   ],
   "source": [
    "next(s1)"
   ]
  },
  {
   "cell_type": "code",
   "execution_count": 30,
   "id": "2123aadd",
   "metadata": {},
   "outputs": [
    {
     "data": {
      "text/plain": [
       "7"
      ]
     },
     "execution_count": 30,
     "metadata": {},
     "output_type": "execute_result"
    }
   ],
   "source": [
    "next(s1)"
   ]
  },
  {
   "cell_type": "code",
   "execution_count": 41,
   "id": "1de1025b",
   "metadata": {},
   "outputs": [],
   "source": [
    "\"\"\"Question 2:\n",
    "Write a program to compute the frequency of the words from the input. The output\n",
    "should output after sorting the key alphanumerically.\"\"\"\n",
    "import operator\n",
    "def freq(x):\n",
    "    try:\n",
    "        d ={}\n",
    "        for i in x.split(' '):\n",
    "            if i not in d:\n",
    "                d[i] = 1\n",
    "            elif i in d:\n",
    "                d[i] = d[i] +1\n",
    "            else:\n",
    "                pass\n",
    "        s = sorted(d.items(),key=operator.itemgetter(0))\n",
    "        for i in s:\n",
    "            print(i[0],i[1])\n",
    "    except Exception as e:\n",
    "        print(e)\n",
    "      "
   ]
  },
  {
   "cell_type": "code",
   "execution_count": 42,
   "id": "4befa777",
   "metadata": {},
   "outputs": [
    {
     "name": "stdout",
     "output_type": "stream",
     "text": [
      "2 2\n",
      "3. 1\n",
      "3? 1\n",
      "New 1\n",
      "Python 5\n",
      "Read 1\n",
      "and 1\n",
      "between 1\n",
      "choosing 1\n",
      "or 2\n",
      "to 1\n"
     ]
    }
   ],
   "source": [
    "freq('New to Python or choosing between Python 2 and Python 3? Read Python 2 or Python 3.')"
   ]
  },
  {
   "cell_type": "code",
   "execution_count": 51,
   "id": "fa8ed3b4",
   "metadata": {},
   "outputs": [],
   "source": [
    "\"\"\"Question 4:\n",
    "Please write a program to generate all sentences where subject is in ['I', 'You'] and\n",
    "verb is in ['Play', 'Love'] and the object is in ['Hockey','Football'].\"\"\"\n",
    "\n",
    "R = 3\n",
    "C = 2\n",
    " \n",
    "\n",
    "def printUtil(arr, m, n, output):\n",
    " \n",
    "\n",
    "    output[m] = arr[m][n]\n",
    " \n",
    "\n",
    "    if m==R-1:\n",
    "        for i in range(R):\n",
    "            print (output[i],end= \" \")\n",
    "        print()\n",
    "        return\n",
    "    for i in range(C):\n",
    "        if arr[m+1][i] != \"\":\n",
    "            printUtil(arr, m+1, i, output)\n",
    "def printf(arr): \n",
    "    output = [\"\"] * R\n",
    "    for i in range(C):\n",
    "        if arr[0][i] != \"\":\n",
    "            printUtil(arr, 0, i, output)\n"
   ]
  },
  {
   "cell_type": "code",
   "execution_count": 52,
   "id": "957ce7f3",
   "metadata": {},
   "outputs": [],
   "source": [
    "arr = [['I', 'You'],['Play', 'Love'],['Hockey','Football']]"
   ]
  },
  {
   "cell_type": "code",
   "execution_count": 53,
   "id": "4b007427",
   "metadata": {},
   "outputs": [
    {
     "name": "stdout",
     "output_type": "stream",
     "text": [
      "I Play Hockey \n",
      "I Play Football \n",
      "I Love Hockey \n",
      "I Love Football \n",
      "You Play Hockey \n",
      "You Play Football \n",
      "You Love Hockey \n",
      "You Love Football \n"
     ]
    }
   ],
   "source": [
    "printf(arr)"
   ]
  },
  {
   "cell_type": "code",
   "execution_count": 70,
   "id": "5d434449",
   "metadata": {},
   "outputs": [
    {
     "name": "stdout",
     "output_type": "stream",
     "text": [
      "comp:  b'\\x1f\\x8b\\x08\\x00\\xdd\\r\\x16b\\x02\\xff\\xcbH\\xcd\\xc9\\xc9W(\\xcf/\\xcaIQ\\xcc\\x00\\xb1\\x91\\x98\\n\\x18l\\x00\\xa0(8\\x86.\\x00\\x00\\x00'\n",
      "decomp:  b'hello world!helloworld!hello world!hello world'\n"
     ]
    }
   ],
   "source": [
    "\"\"\"Question 5:\n",
    "Please write a program to compress and decompress the string \"hello world!hello\n",
    "world!hello world!hello world!\".\"\"\"\n",
    "import gzip\n",
    "\n",
    "s = b\"hello world!helloworld!hello world!hello world\"\n",
    "s = gzip.compress(s)\n",
    "t = gzip.decompress(s)\n",
    "print('comp: ',s)\n",
    "print('decomp: ',t)"
   ]
  },
  {
   "cell_type": "code",
   "execution_count": 27,
   "id": "f2894a0e",
   "metadata": {},
   "outputs": [],
   "source": [
    "\"\"\"Please write a binary search function which searches an item in a sorted list. The\n",
    "function should return the index of element to be searched in the list.\"\"\"\n",
    "\n",
    "def binary_search(x,y):\n",
    "    low = 0\n",
    "    high = len(x)-1\n",
    "    mid = 0\n",
    "    \n",
    "    while low <= high:\n",
    "        mid = (high+low)//2\n",
    "        \n",
    "        if x[mid]<y:\n",
    "            low = mid +1\n",
    "        elif x[mid]>y:\n",
    "            high = mid -1\n",
    "        else :\n",
    "            return 'index is {}'.format(mid)\n",
    "    return -1"
   ]
  },
  {
   "cell_type": "code",
   "execution_count": 30,
   "id": "7aabe88a",
   "metadata": {},
   "outputs": [
    {
     "data": {
      "text/plain": [
       "'index is 4'"
      ]
     },
     "execution_count": 30,
     "metadata": {},
     "output_type": "execute_result"
    }
   ],
   "source": [
    "binary_search([2,5,30,48,60],60)"
   ]
  },
  {
   "cell_type": "code",
   "execution_count": null,
   "id": "44449162",
   "metadata": {},
   "outputs": [],
   "source": [
    "\n"
   ]
  },
  {
   "cell_type": "code",
   "execution_count": 21,
   "id": "d1f9e935",
   "metadata": {},
   "outputs": [],
   "source": []
  },
  {
   "cell_type": "code",
   "execution_count": 25,
   "id": "69bbb994",
   "metadata": {},
   "outputs": [
    {
     "data": {
      "text/plain": [
       "3"
      ]
     },
     "execution_count": 25,
     "metadata": {},
     "output_type": "execute_result"
    }
   ],
   "source": []
  },
  {
   "cell_type": "code",
   "execution_count": null,
   "id": "78e2ea37",
   "metadata": {},
   "outputs": [],
   "source": []
  }
 ],
 "metadata": {
  "kernelspec": {
   "display_name": "Python 3 (ipykernel)",
   "language": "python",
   "name": "python3"
  },
  "language_info": {
   "codemirror_mode": {
    "name": "ipython",
    "version": 3
   },
   "file_extension": ".py",
   "mimetype": "text/x-python",
   "name": "python",
   "nbconvert_exporter": "python",
   "pygments_lexer": "ipython3",
   "version": "3.9.7"
  }
 },
 "nbformat": 4,
 "nbformat_minor": 5
}

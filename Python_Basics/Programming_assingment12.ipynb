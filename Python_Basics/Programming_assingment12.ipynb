{
 "cells": [
  {
   "cell_type": "code",
   "execution_count": 13,
   "id": "90da7f25",
   "metadata": {},
   "outputs": [],
   "source": [
    "#1 Write a Python program to Extract Unique values dictionary values?\n",
    "def check(x):\n",
    "    try:\n",
    "        l = []\n",
    "        for val in x.values():\n",
    "            if val in l:\n",
    "                continue\n",
    "            else:\n",
    "                l.append(val)\n",
    "        print(l)\n",
    "    except Exception as e:\n",
    "        print(e)"
   ]
  },
  {
   "cell_type": "code",
   "execution_count": 14,
   "id": "895ba381",
   "metadata": {},
   "outputs": [
    {
     "name": "stdout",
     "output_type": "stream",
     "text": [
      "['vijit', 'kumar']\n"
     ]
    }
   ],
   "source": [
    "check({'v':'vijit',\"k\":'kumar','s':'vijit'})"
   ]
  },
  {
   "cell_type": "code",
   "execution_count": 15,
   "id": "4a602a2c",
   "metadata": {},
   "outputs": [],
   "source": [
    "#2 Write a Python program to find the sum of all items in a dictionary?\n",
    "def sum_dict(x):\n",
    "    try:\n",
    "        l = []\n",
    "        for i in x.values():\n",
    "            l.append(i)\n",
    "        return sum(l)\n",
    "    except Exception as e:\n",
    "        print(e)"
   ]
  },
  {
   "cell_type": "code",
   "execution_count": 16,
   "id": "032bf668",
   "metadata": {},
   "outputs": [
    {
     "data": {
      "text/plain": [
       "90"
      ]
     },
     "execution_count": 16,
     "metadata": {},
     "output_type": "execute_result"
    }
   ],
   "source": [
    "sum_dict({'a':20,'b':30,'c':40})"
   ]
  },
  {
   "cell_type": "code",
   "execution_count": 20,
   "id": "ee683b76",
   "metadata": {},
   "outputs": [],
   "source": [
    "#3 Write a Python program to Merging two Dictionary\n",
    "def merge_dict(x,y):\n",
    "    try:\n",
    "        x.update(y)\n",
    "        return(x)\n",
    "    except Exception as e:\n",
    "        print(e)"
   ]
  },
  {
   "cell_type": "code",
   "execution_count": 21,
   "id": "805d8347",
   "metadata": {},
   "outputs": [
    {
     "data": {
      "text/plain": [
       "{'a': 45, 'b': 20, 'e': 50, 'f': 55}"
      ]
     },
     "execution_count": 21,
     "metadata": {},
     "output_type": "execute_result"
    }
   ],
   "source": [
    "merge_dict({'a':45,'b':20}, {'e':50,'f':55})"
   ]
  },
  {
   "cell_type": "code",
   "execution_count": 1,
   "id": "e2253b2b",
   "metadata": {},
   "outputs": [
    {
     "name": "stdout",
     "output_type": "stream",
     "text": [
      "{'python': 1991, 'java': 1995, 'c/c++': 1980, 'javascript': 1995}\n"
     ]
    }
   ],
   "source": [
    "#4 Write a Python program to convert key-values list to flat dictionary?\n",
    " \n",
    "languages = {'language' : ['python', 'java', 'c/c++', 'javascript'], 'year' : [1991, 1995, 1980, 1995]}\n",
    "lang_year = dict(zip(languages['language'], languages['year']))\n",
    "print(lang_year)"
   ]
  },
  {
   "cell_type": "code",
   "execution_count": 11,
   "id": "6c5eef66",
   "metadata": {},
   "outputs": [],
   "source": [
    "#5 Write a Python program to insertion at the beginning in OrderedDict?\n",
    "from collections import OrderedDict\n",
    "d =OrderedDict([('a',45),('b',20)])\n",
    "d.update({'e':50})\n",
    "d.move_to_end('e', last=False)"
   ]
  },
  {
   "cell_type": "code",
   "execution_count": 12,
   "id": "a58d19e2",
   "metadata": {},
   "outputs": [
    {
     "data": {
      "text/plain": [
       "OrderedDict([('e', 50), ('a', 45), ('b', 20)])"
      ]
     },
     "execution_count": 12,
     "metadata": {},
     "output_type": "execute_result"
    }
   ],
   "source": [
    "d"
   ]
  },
  {
   "cell_type": "code",
   "execution_count": 20,
   "id": "50e25f5e",
   "metadata": {},
   "outputs": [],
   "source": [
    "#6 Write a Python program to check order of character in string using OrderedDict()?\n",
    "from collections import OrderedDict\n",
    "def check_oder(x,y):\n",
    "    try:\n",
    "        d = OrderedDict.fromkeys(x)\n",
    "        p = 0\n",
    "        for key,value in d.items():\n",
    "            if key == y[p]:\n",
    "                p = p +1\n",
    "            if p == len(y):\n",
    "                return True\n",
    "        return False\n",
    "    except Exception as e:\n",
    "        print(e)"
   ]
  },
  {
   "cell_type": "code",
   "execution_count": 21,
   "id": "2af8ca37",
   "metadata": {},
   "outputs": [
    {
     "data": {
      "text/plain": [
       "True"
      ]
     },
     "execution_count": 21,
     "metadata": {},
     "output_type": "execute_result"
    }
   ],
   "source": [
    "check_oder('supernova','per')"
   ]
  },
  {
   "cell_type": "code",
   "execution_count": 29,
   "id": "84c73ee0",
   "metadata": {},
   "outputs": [],
   "source": [
    "#7. Write a Python program to sort Python Dictionaries by Key or Value?\n",
    "from collections import OrderedDict\n",
    "def oder_key(x):\n",
    "    try:\n",
    "        d = OrderedDict(sorted(x.items()))\n",
    "        return d\n",
    "    except Exception as e:\n",
    "        print(e)"
   ]
  },
  {
   "cell_type": "code",
   "execution_count": 30,
   "id": "3b034a51",
   "metadata": {},
   "outputs": [
    {
     "data": {
      "text/plain": [
       "OrderedDict([(1, 2), (2, 56), (3, 45), (5, 18), (10, 28)])"
      ]
     },
     "execution_count": 30,
     "metadata": {},
     "output_type": "execute_result"
    }
   ],
   "source": [
    "x = {2:56,1:2,5:18,10:28,3:45}\n",
    "oder_key(x)"
   ]
  },
  {
   "cell_type": "code",
   "execution_count": null,
   "id": "8f3ee7d6",
   "metadata": {},
   "outputs": [],
   "source": []
  },
  {
   "cell_type": "code",
   "execution_count": null,
   "id": "7d66c654",
   "metadata": {},
   "outputs": [],
   "source": []
  }
 ],
 "metadata": {
  "kernelspec": {
   "display_name": "Python 3 (ipykernel)",
   "language": "python",
   "name": "python3"
  },
  "language_info": {
   "codemirror_mode": {
    "name": "ipython",
    "version": 3
   },
   "file_extension": ".py",
   "mimetype": "text/x-python",
   "name": "python",
   "nbconvert_exporter": "python",
   "pygments_lexer": "ipython3",
   "version": "3.9.7"
  }
 },
 "nbformat": 4,
 "nbformat_minor": 5
}

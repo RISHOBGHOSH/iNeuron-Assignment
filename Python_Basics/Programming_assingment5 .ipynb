{
 "cells": [
  {
   "cell_type": "code",
   "execution_count": 1,
   "metadata": {},
   "outputs": [],
   "source": [
    "#1 Write a python program to find LCM .\n",
    "\n",
    "def Find_lcm (x , y):\n",
    "    try:\n",
    "        if x > y:\n",
    "            greater = x\n",
    "        else:\n",
    "            greater = y\n",
    "        while (True):\n",
    "            if greater % x == 0 and greater % y == 0:\n",
    "                LCM = greater\n",
    "                break\n",
    "            greater = greater + 1\n",
    "    except Exception as e :\n",
    "        print(e)\n",
    "        \n",
    "    else:\n",
    "        return LCM\n",
    "        "
   ]
  },
  {
   "cell_type": "code",
   "execution_count": 2,
   "metadata": {},
   "outputs": [
    {
     "data": {
      "text/plain": [
       "84"
      ]
     },
     "execution_count": 2,
     "metadata": {},
     "output_type": "execute_result"
    }
   ],
   "source": [
    "Find_lcm(12,14)"
   ]
  },
  {
   "cell_type": "code",
   "execution_count": 5,
   "metadata": {},
   "outputs": [],
   "source": [
    "#2 Write a python program to find HCF .\n",
    "def Find_hcf(x,y):\n",
    "    try :\n",
    "        if x < y:\n",
    "            smaller = x\n",
    "        else:\n",
    "            smaller = y\n",
    "        for i in range(1,smaller +1):\n",
    "            if x % i == 0 and y % i == 0:\n",
    "                HCF = i\n",
    "    except Exception as e:\n",
    "        print(e)\n",
    "    else:\n",
    "        return HCF"
   ]
  },
  {
   "cell_type": "code",
   "execution_count": 9,
   "metadata": {},
   "outputs": [
    {
     "data": {
      "text/plain": [
       "6"
      ]
     },
     "execution_count": 9,
     "metadata": {},
     "output_type": "execute_result"
    }
   ],
   "source": [
    "Find_hcf(54,24)"
   ]
  },
  {
   "cell_type": "code",
   "execution_count": 18,
   "metadata": {},
   "outputs": [],
   "source": [
    "#3 Write a program to convert decimal to binary , octal , hexadecimal.\n",
    "def conversion(x):\n",
    "    try:\n",
    "        oct_con = oct(x)\n",
    "        bin_con = bin(x)\n",
    "        hex_con = hex(x)\n",
    "    except Exception as e:\n",
    "        print(e)\n",
    "        print(\"plzz enter integer \")\n",
    "    else:\n",
    "        return \"conversion of decimal to octal is {}\".format(oct_con),\"conversion of decimal to binary is {}\".format(bin_con),\"conversion of decimal to hex is {}\".format(hex_con)"
   ]
  },
  {
   "cell_type": "code",
   "execution_count": 20,
   "metadata": {},
   "outputs": [
    {
     "data": {
      "text/plain": [
       "('conversion of decimal to octal is 0o707',\n",
       " 'conversion of decimal to binary is 0b111000111',\n",
       " 'conversion of decimal to hex is 0x1c7')"
      ]
     },
     "execution_count": 20,
     "metadata": {},
     "output_type": "execute_result"
    }
   ],
   "source": [
    "conversion(455)"
   ]
  },
  {
   "cell_type": "code",
   "execution_count": 47,
   "metadata": {},
   "outputs": [],
   "source": [
    "#4 Write a python program to find ASCII value of character .\n",
    "def Find_ASCII(x):\n",
    "    try:\n",
    "        l=[]\n",
    "        for i in x:\n",
    "            l.append([ord(i),i])\n",
    "        return l\n",
    "    except Exception as e:\n",
    "        print(e)\n",
    "        print(\"ACII no only exist for string\")"
   ]
  },
  {
   "cell_type": "code",
   "execution_count": 59,
   "metadata": {},
   "outputs": [
    {
     "data": {
      "text/plain": [
       "[[115, 's'], [117, 'u'], [100, 'd'], [104, 'h']]"
      ]
     },
     "execution_count": 59,
     "metadata": {},
     "output_type": "execute_result"
    }
   ],
   "source": [
    "Find_ASCII(\"sudh\")"
   ]
  },
  {
   "cell_type": "code",
   "execution_count": 60,
   "metadata": {},
   "outputs": [],
   "source": [
    "#5 Write a program to make a simple calculator with 4 basic mathematical operation .\n",
    "\n",
    "def cal(x,y):\n",
    "    try:\n",
    "        a = input(\"enter the sign of operation you want to do -- \")\n",
    "        if a == \"+\":\n",
    "            return x + y\n",
    "        elif a == \"-\":\n",
    "            return x - y\n",
    "        elif a == \"*\":\n",
    "            return x * y\n",
    "        elif a == \"/\":\n",
    "            return x / y\n",
    "        else:\n",
    "            print(\"plz enter sign + for add\")\n",
    "            print(\"plzz enter sign - for subtraction\")\n",
    "            print(\"plzz enter * for multiply\")\n",
    "            print (\"plzz enter / for division\")\n",
    "    except Exception as e:\n",
    "        print(e)\n",
    "        print(\"plzz enter number\")\n"
   ]
  },
  {
   "cell_type": "code",
   "execution_count": 61,
   "metadata": {},
   "outputs": [
    {
     "name": "stdout",
     "output_type": "stream",
     "text": [
      "enter the sign of operation you want to do -- +\n"
     ]
    },
    {
     "data": {
      "text/plain": [
       "9"
      ]
     },
     "execution_count": 61,
     "metadata": {},
     "output_type": "execute_result"
    }
   ],
   "source": [
    "cal(4,5)"
   ]
  },
  {
   "cell_type": "code",
   "execution_count": null,
   "metadata": {},
   "outputs": [],
   "source": []
  }
 ],
 "metadata": {
  "kernelspec": {
   "display_name": "Python 3",
   "language": "python",
   "name": "python3"
  },
  "language_info": {
   "codemirror_mode": {
    "name": "ipython",
    "version": 3
   },
   "file_extension": ".py",
   "mimetype": "text/x-python",
   "name": "python",
   "nbconvert_exporter": "python",
   "pygments_lexer": "ipython3",
   "version": "3.8.5"
  }
 },
 "nbformat": 4,
 "nbformat_minor": 4
}

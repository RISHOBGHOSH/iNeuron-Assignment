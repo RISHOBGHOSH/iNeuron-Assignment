{
 "cells": [
  {
   "cell_type": "code",
   "execution_count": 14,
   "metadata": {},
   "outputs": [
    {
     "name": "stdout",
     "output_type": "stream",
     "text": [
      "enter a num --10\n",
      "0\n",
      "1\n",
      "1\n",
      "2\n",
      "3\n",
      "5\n",
      "8\n",
      "13\n",
      "21\n",
      "34\n"
     ]
    }
   ],
   "source": [
    "#1 Write a python program to display Fibonacii sequence using recursion.\n",
    "\n",
    "try:\n",
    "    def fib_rec(x):\n",
    "        if x<= 1:\n",
    "            return x\n",
    "        else:\n",
    "            return (fib_rec(x-1) + fib_rec(x-2))\n",
    "    nterms = int(input(\"enter a num --\"))\n",
    "    if nterms <=0:\n",
    "        print(\"enter positive no\")\n",
    "    else:\n",
    "        for i in range(nterms):\n",
    "            print(fib_rec(i))\n",
    "except Exception as e:\n",
    "    print(e)\n"
   ]
  },
  {
   "cell_type": "code",
   "execution_count": 22,
   "metadata": {},
   "outputs": [
    {
     "name": "stdout",
     "output_type": "stream",
     "text": [
      "enter a number --10\n",
      "3628800\n"
     ]
    }
   ],
   "source": [
    "#2 Write a python program to find factorial of numbuer using recursion.\n",
    "try:\n",
    "    def fac_rec(n):\n",
    "        if n == 1:\n",
    "            return n\n",
    "        else:\n",
    "            return n*fac_rec(n-1)\n",
    "    x = int(input(\"enter a number --\"))\n",
    "    if x == 0:\n",
    "        print(\"facotial of 0 is 1\")\n",
    "    elif x< 0 :\n",
    "        print(\"positive number\")\n",
    "    else:\n",
    "        print( fac_rec(x))\n",
    "except Exception as e:\n",
    "    print(e)"
   ]
  },
  {
   "cell_type": "code",
   "execution_count": 29,
   "metadata": {},
   "outputs": [],
   "source": [
    "#3 Write a python program to calculate your body mass index\n",
    "try:\n",
    "    def bmi_cal(x,y):\n",
    "        \"\"\"x = enter weight in kg ,y = enter height in cm\"\"\"\n",
    "        c = x / (y/100)**2\n",
    "        return c\n",
    "except Exception as e:\n",
    "    print(e)"
   ]
  },
  {
   "cell_type": "code",
   "execution_count": 30,
   "metadata": {},
   "outputs": [
    {
     "data": {
      "text/plain": [
       "23.725286160249738"
      ]
     },
     "execution_count": 30,
     "metadata": {},
     "output_type": "execute_result"
    }
   ],
   "source": [
    "\n",
    "bmi_cal(57,155)"
   ]
  },
  {
   "cell_type": "code",
   "execution_count": 36,
   "metadata": {},
   "outputs": [
    {
     "name": "stdout",
     "output_type": "stream",
     "text": [
      "enter a number--45\n",
      "3.8066624897703196\n"
     ]
    }
   ],
   "source": [
    "#4 Write a python program to calculate the natural logrethmic of any number.\n",
    "import math as ma\n",
    "x = int(input(\"enter a number--\"))\n",
    "z = ma.log(x)\n",
    "print(z)"
   ]
  },
  {
   "cell_type": "code",
   "execution_count": 44,
   "metadata": {},
   "outputs": [],
   "source": [
    "#5 Write a python program for cube of first n natural number.\n",
    "\n",
    "try:\n",
    "    def cube_n(n):\n",
    "        l=[]\n",
    "        for i in range(1,n+1):\n",
    "            z = i**3\n",
    "            l.append(z)\n",
    "        return sum(l)\n",
    "except Exception as e:\n",
    "    print(e)\n",
    "            "
   ]
  },
  {
   "cell_type": "code",
   "execution_count": 45,
   "metadata": {},
   "outputs": [
    {
     "data": {
      "text/plain": [
       "225"
      ]
     },
     "execution_count": 45,
     "metadata": {},
     "output_type": "execute_result"
    }
   ],
   "source": [
    "cube_n(5)"
   ]
  },
  {
   "cell_type": "code",
   "execution_count": null,
   "metadata": {},
   "outputs": [],
   "source": []
  },
  {
   "cell_type": "code",
   "execution_count": null,
   "metadata": {},
   "outputs": [],
   "source": []
  }
 ],
 "metadata": {
  "kernelspec": {
   "display_name": "Python 3",
   "language": "python",
   "name": "python3"
  },
  "language_info": {
   "codemirror_mode": {
    "name": "ipython",
    "version": 3
   },
   "file_extension": ".py",
   "mimetype": "text/x-python",
   "name": "python",
   "nbconvert_exporter": "python",
   "pygments_lexer": "ipython3",
   "version": "3.8.5"
  }
 },
 "nbformat": 4,
 "nbformat_minor": 4
}

{
 "cells": [
  {
   "cell_type": "code",
   "execution_count": 1,
   "id": "61e8ce84",
   "metadata": {},
   "outputs": [],
   "source": [
    "#1 Write a Python program to find words which are greater than given length k?\n",
    "def check(x,y):\n",
    "    try:\n",
    "        l = []\n",
    "        if type(x) == list or type(x) == tuple or type(x) == set:\n",
    "            for i in x:\n",
    "                if len(i)>y:\n",
    "                    l.append(i)\n",
    "        elif type(x) == str:\n",
    "            s = x.split(' ')\n",
    "            for i in s:\n",
    "                if len(i) >y:\n",
    "                    l.append(i)\n",
    "        return l\n",
    "    except Exception as e:\n",
    "        print(e)"
   ]
  },
  {
   "cell_type": "code",
   "execution_count": 20,
   "id": "30a31192",
   "metadata": {},
   "outputs": [
    {
     "data": {
      "text/plain": [
       "['name', 'vijit', 'kumar']"
      ]
     },
     "execution_count": 20,
     "metadata": {},
     "output_type": "execute_result"
    }
   ],
   "source": [
    "check('my name is vijit kumar',3)"
   ]
  },
  {
   "cell_type": "code",
   "execution_count": 6,
   "id": "9225efbc",
   "metadata": {},
   "outputs": [],
   "source": [
    "#2 Write a Python program for removing i-th character from a string?\n",
    "def check_i(x ,i):\n",
    "    try:\n",
    "        a = x[:i]\n",
    "        b = x[i+1:]\n",
    "        return a+b\n",
    "    except Exception as e:\n",
    "        print('plzz enter string')"
   ]
  },
  {
   "cell_type": "code",
   "execution_count": 7,
   "id": "69c810b7",
   "metadata": {},
   "outputs": [
    {
     "data": {
      "text/plain": [
       "'vijt'"
      ]
     },
     "execution_count": 7,
     "metadata": {},
     "output_type": "execute_result"
    }
   ],
   "source": [
    "check_i('vijit',3)"
   ]
  },
  {
   "cell_type": "code",
   "execution_count": 19,
   "id": "5fe34685",
   "metadata": {},
   "outputs": [],
   "source": [
    "#3 Write a Python program to split and join a string?\n",
    "def split_join(x,y):\n",
    "    s = x.split(' ')\n",
    "    t = '-'.join(s)\n",
    "    return s,t"
   ]
  },
  {
   "cell_type": "code",
   "execution_count": 18,
   "id": "0d8c2cc6",
   "metadata": {},
   "outputs": [
    {
     "data": {
      "text/plain": [
       "(['this', 'code', 'will', 'use', 'to', 'split', 'and', 'join', 'string'],\n",
       " 'this-code-will-use-to-split-and-join-string')"
      ]
     },
     "execution_count": 18,
     "metadata": {},
     "output_type": "execute_result"
    }
   ],
   "source": [
    "split_join('this code will use to split and join string','-')"
   ]
  },
  {
   "cell_type": "code",
   "execution_count": 43,
   "id": "95a17fb5",
   "metadata": {},
   "outputs": [],
   "source": [
    "#4. Write a Python to check if a given string is binary string or not?\n",
    "def check_bin(x):\n",
    "    try:\n",
    "        a = set(x)\n",
    "        s = {\"0\",\"1\"}\n",
    "        if a ==s:\n",
    "            return 'string is binary'\n",
    "        else:\n",
    "            return 'not binary'\n",
    "    except Exception as e:\n",
    "        print(e)"
   ]
  },
  {
   "cell_type": "code",
   "execution_count": 44,
   "id": "480c22cd",
   "metadata": {},
   "outputs": [
    {
     "data": {
      "text/plain": [
       "'string is binary'"
      ]
     },
     "execution_count": 44,
     "metadata": {},
     "output_type": "execute_result"
    }
   ],
   "source": [
    "check_bin(\"0101010101\")"
   ]
  },
  {
   "cell_type": "code",
   "execution_count": 50,
   "id": "f6d08abe",
   "metadata": {},
   "outputs": [],
   "source": [
    "#5 Write a Python program to find uncommon words from two Strings?\n",
    "def uncommon_word(x,y):\n",
    "    try:\n",
    "        l = []\n",
    "        a = x.split(\" \")\n",
    "        b = y.split(\" \")\n",
    "        for i in a:\n",
    "            if i not in b:\n",
    "                l.append(i)\n",
    "        for j in b:\n",
    "            if j not in a:\n",
    "                l.append(j)\n",
    "        return l\n",
    "    except Exception as e: \n",
    "        print(e)"
   ]
  },
  {
   "cell_type": "code",
   "execution_count": 51,
   "id": "1a9e95e0",
   "metadata": {},
   "outputs": [
    {
     "data": {
      "text/plain": [
       "['word', 'words']"
      ]
     },
     "execution_count": 51,
     "metadata": {},
     "output_type": "execute_result"
    }
   ],
   "source": [
    "uncommon_word('this is code for uncommon word','this is code for uncommon words')"
   ]
  },
  {
   "cell_type": "code",
   "execution_count": 64,
   "id": "fc359f8f",
   "metadata": {},
   "outputs": [],
   "source": [
    "#6 Write a Python to find all duplicate characters in string?\n",
    "def duplicate(x):\n",
    "    try:\n",
    "        l = []\n",
    "        for i in x:\n",
    "            if x.count(i)>1:\n",
    "                l.append(i)\n",
    "        return set(l)\n",
    "    except Exception as e:\n",
    "        print(e)"
   ]
  },
  {
   "cell_type": "code",
   "execution_count": 65,
   "id": "63440475",
   "metadata": {},
   "outputs": [
    {
     "data": {
      "text/plain": [
       "{'i', 'r'}"
      ]
     },
     "execution_count": 65,
     "metadata": {},
     "output_type": "execute_result"
    }
   ],
   "source": [
    "duplicate(\"vijitkumarrr\")"
   ]
  },
  {
   "cell_type": "code",
   "execution_count": 80,
   "id": "1f26ddf1",
   "metadata": {},
   "outputs": [
    {
     "ename": "SyntaxError",
     "evalue": "invalid syntax (Temp/ipykernel_8064/2965518421.py, line 10)",
     "output_type": "error",
     "traceback": [
      "\u001b[1;36m  File \u001b[1;32m\"C:\\Users\\VIJITK~1\\AppData\\Local\\Temp/ipykernel_8064/2965518421.py\"\u001b[1;36m, line \u001b[1;32m10\u001b[0m\n\u001b[1;33m    except Exception as e:\u001b[0m\n\u001b[1;37m    ^\u001b[0m\n\u001b[1;31mSyntaxError\u001b[0m\u001b[1;31m:\u001b[0m invalid syntax\n"
     ]
    }
   ],
   "source": [
    "#7 Write a Python Program to check if a string contains any special character?\n",
    "def check_special_character(x):\n",
    "    try:\n",
    "        if x.isalnum():\n",
    "            print(\"special character is not present\")\n",
    "        else:\n",
    "            for i in x:\n",
    "                if i.isalnum() == False:\n",
    "                    print(\"special character is present {}\".format(i)\n",
    "    except Exception as e:\n",
    "        print(e)"
   ]
  },
  {
   "cell_type": "code",
   "execution_count": 76,
   "id": "40c598e5",
   "metadata": {},
   "outputs": [
    {
     "name": "stdout",
     "output_type": "stream",
     "text": [
      "special character is present [\n",
      "special character is present @\n"
     ]
    }
   ],
   "source": [
    "check_special_character(\"vij[it@12\")"
   ]
  },
  {
   "cell_type": "code",
   "execution_count": null,
   "id": "36e87fba",
   "metadata": {},
   "outputs": [],
   "source": []
  }
 ],
 "metadata": {
  "kernelspec": {
   "display_name": "Python 3 (ipykernel)",
   "language": "python",
   "name": "python3"
  },
  "language_info": {
   "codemirror_mode": {
    "name": "ipython",
    "version": 3
   },
   "file_extension": ".py",
   "mimetype": "text/x-python",
   "name": "python",
   "nbconvert_exporter": "python",
   "pygments_lexer": "ipython3",
   "version": "3.9.7"
  }
 },
 "nbformat": 4,
 "nbformat_minor": 5
}

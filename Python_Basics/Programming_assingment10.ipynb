{
 "cells": [
  {
   "cell_type": "code",
   "execution_count": 7,
   "metadata": {},
   "outputs": [],
   "source": [
    "#1 Write a Python program to find sum of elements in list?\n",
    "def sum_list(x):\n",
    "    try:\n",
    "        count = 0\n",
    "        for i in x:\n",
    "            if type(i) != str :\n",
    "                count = count + i\n",
    "            else:\n",
    "                pass\n",
    "        return count\n",
    "    except Exception as e:\n",
    "        print(e)"
   ]
  },
  {
   "cell_type": "code",
   "execution_count": 9,
   "metadata": {},
   "outputs": [
    {
     "data": {
      "text/plain": [
       "35"
      ]
     },
     "execution_count": 9,
     "metadata": {},
     "output_type": "execute_result"
    }
   ],
   "source": [
    "x = [5,10,20,\"abc\"]\n",
    "sum_list(x)"
   ]
  },
  {
   "cell_type": "code",
   "execution_count": 4,
   "metadata": {},
   "outputs": [],
   "source": [
    "#2 Write a Python program to Multiply all numbers in the list?\n",
    "def mul_list(x):\n",
    "    try:\n",
    "        count = 1\n",
    "        for i in x:\n",
    "            count = count *i\n",
    "        return count\n",
    "    except Exception as e:\n",
    "        print(e)"
   ]
  },
  {
   "cell_type": "code",
   "execution_count": 5,
   "metadata": {},
   "outputs": [
    {
     "data": {
      "text/plain": [
       "100"
      ]
     },
     "execution_count": 5,
     "metadata": {},
     "output_type": "execute_result"
    }
   ],
   "source": [
    "x = [2,5,10]\n",
    "mul_list(x)"
   ]
  },
  {
   "cell_type": "code",
   "execution_count": 6,
   "metadata": {},
   "outputs": [],
   "source": [
    "#3 Write a Python program to find smallest number in a list?\n",
    "def smal_no(x):\n",
    "    try:\n",
    "        l = []\n",
    "        for i in x:\n",
    "            if type(i) == int:\n",
    "                l.append(i)\n",
    "        else:\n",
    "            pass\n",
    "        return min(l)\n",
    "    except Exception as e:\n",
    "        print(e)"
   ]
  },
  {
   "cell_type": "code",
   "execution_count": 7,
   "metadata": {},
   "outputs": [
    {
     "data": {
      "text/plain": [
       "4"
      ]
     },
     "execution_count": 7,
     "metadata": {},
     "output_type": "execute_result"
    }
   ],
   "source": [
    "x = [4,5,100]\n",
    "smal_no(x)"
   ]
  },
  {
   "cell_type": "code",
   "execution_count": 8,
   "metadata": {},
   "outputs": [],
   "source": [
    "#4 Write a Python program to find largest number in a list?\n",
    "def lar_no(x):\n",
    "    try:\n",
    "        l = []\n",
    "        for i in x:\n",
    "            if type(i) == int:\n",
    "                l.append(i)\n",
    "        else:\n",
    "            pass\n",
    "        return max(l)\n",
    "    except Exception as e:\n",
    "        print(e)"
   ]
  },
  {
   "cell_type": "code",
   "execution_count": 9,
   "metadata": {},
   "outputs": [
    {
     "data": {
      "text/plain": [
       "100"
      ]
     },
     "execution_count": 9,
     "metadata": {},
     "output_type": "execute_result"
    }
   ],
   "source": [
    "x = [4, 5 ,100,6]\n",
    "lar_no(x)"
   ]
  },
  {
   "cell_type": "code",
   "execution_count": 10,
   "metadata": {},
   "outputs": [],
   "source": [
    "#5 Write a Python program to find second largest number in a list?\n",
    "def secLar_no(x):\n",
    "    try:\n",
    "        l=[]\n",
    "        for i in x:\n",
    "            if type(i) == int:\n",
    "                l.append(i)\n",
    "            else:\n",
    "                pass\n",
    "        l1 = sorted(l)\n",
    "        return l1[-2]\n",
    "    except Exception as e:\n",
    "        print(e)"
   ]
  },
  {
   "cell_type": "code",
   "execution_count": 11,
   "metadata": {},
   "outputs": [
    {
     "data": {
      "text/plain": [
       "96"
      ]
     },
     "execution_count": 11,
     "metadata": {},
     "output_type": "execute_result"
    }
   ],
   "source": [
    "x = [45,8,78,96,100,\"v\"]\n",
    "secLar_no(x)"
   ]
  },
  {
   "cell_type": "code",
   "execution_count": 15,
   "metadata": {},
   "outputs": [],
   "source": [
    "#6 Write a Python program to find N largest elements from a list?\n",
    "def NLar_no(x):\n",
    "    try:\n",
    "        n = int(input(\"enter number -- \"))\n",
    "        l=[]\n",
    "        for i in x:\n",
    "            if type(i) == int:\n",
    "                l.append(i)\n",
    "            else:\n",
    "                pass\n",
    "        l1 = sorted(l)\n",
    "        return l1[:-(n+1):-1]\n",
    "    except Exception as e:\n",
    "        print(e)"
   ]
  },
  {
   "cell_type": "code",
   "execution_count": 16,
   "metadata": {},
   "outputs": [
    {
     "name": "stdout",
     "output_type": "stream",
     "text": [
      "enter number -- 4\n"
     ]
    },
    {
     "data": {
      "text/plain": [
       "[96, 81, 52, 45]"
      ]
     },
     "execution_count": 16,
     "metadata": {},
     "output_type": "execute_result"
    }
   ],
   "source": [
    "x = [81, 52, 45, 10, 3, 2, 96]\n",
    "NLar_no(x)"
   ]
  },
  {
   "cell_type": "code",
   "execution_count": 17,
   "metadata": {},
   "outputs": [],
   "source": [
    "#7 Write a Python program to print even numbers in a list?\n",
    "def even_l(x):\n",
    "    try:\n",
    "        l= []\n",
    "        for i in x:\n",
    "            if type(i ) == int or type(i)== float:\n",
    "                if   i % 2 == 0 :\n",
    "                    l.append(i)\n",
    "            else:\n",
    "                pass\n",
    "        return l\n",
    "    except Exception as e:\n",
    "        print(e)"
   ]
  },
  {
   "cell_type": "code",
   "execution_count": 18,
   "metadata": {},
   "outputs": [
    {
     "data": {
      "text/plain": [
       "[52, 10, 2, 96]"
      ]
     },
     "execution_count": 18,
     "metadata": {},
     "output_type": "execute_result"
    }
   ],
   "source": [
    "even_l(x)"
   ]
  },
  {
   "cell_type": "code",
   "execution_count": 19,
   "metadata": {},
   "outputs": [],
   "source": [
    "#8 Write a Python program to print odd numbers in a List?\n",
    "def odd_l(x):\n",
    "    try:\n",
    "        l= []\n",
    "        for i in x:\n",
    "            if type(i ) == int or type(i)== float:\n",
    "                if   i % 2 != 0 :\n",
    "                    l.append(i)\n",
    "            else:\n",
    "                pass\n",
    "        return l\n",
    "    except Exception as e:\n",
    "        print(e)"
   ]
  },
  {
   "cell_type": "code",
   "execution_count": 20,
   "metadata": {},
   "outputs": [
    {
     "data": {
      "text/plain": [
       "[81, 45, 3]"
      ]
     },
     "execution_count": 20,
     "metadata": {},
     "output_type": "execute_result"
    }
   ],
   "source": [
    "odd_l(x)"
   ]
  },
  {
   "cell_type": "code",
   "execution_count": 21,
   "metadata": {},
   "outputs": [],
   "source": [
    "#9 Write a Python program to Remove empty List from List?\n",
    "def rem_l(x):\n",
    "    try:\n",
    "        for i in x :\n",
    "            if type(i) == list :\n",
    "                if len(i) == 0:\n",
    "                    x.remove(i)\n",
    "        return x\n",
    "    except Exception as e:\n",
    "        print(e)"
   ]
  },
  {
   "cell_type": "code",
   "execution_count": 22,
   "metadata": {},
   "outputs": [
    {
     "data": {
      "text/plain": [
       "[2, 5, 6]"
      ]
     },
     "execution_count": 22,
     "metadata": {},
     "output_type": "execute_result"
    }
   ],
   "source": [
    "x = [2,5,6,[]]\n",
    "rem_l(x)"
   ]
  },
  {
   "cell_type": "code",
   "execution_count": 23,
   "metadata": {},
   "outputs": [],
   "source": [
    "#10 Write a Python program to Cloning or Copying a list?\n",
    "def copy_l(x):\n",
    "    try:\n",
    "        copy_list = x[:]\n",
    "        return copy_list\n",
    "    except Exception as e:\n",
    "        print(e)"
   ]
  },
  {
   "cell_type": "code",
   "execution_count": 24,
   "metadata": {},
   "outputs": [
    {
     "data": {
      "text/plain": [
       "[2, 5, 6]"
      ]
     },
     "execution_count": 24,
     "metadata": {},
     "output_type": "execute_result"
    }
   ],
   "source": [
    "copy_l(x)"
   ]
  },
  {
   "cell_type": "code",
   "execution_count": 35,
   "metadata": {},
   "outputs": [],
   "source": [
    "#11 Wrxite a Python program to Count occurrences of an element in a list?\n",
    "def occ_li(x,y):\n",
    "    try:\n",
    "        count = 0\n",
    "        for i in x:\n",
    "            if i == y:\n",
    "                count = count + 1\n",
    "        return count\n",
    "    except Exception as e:\n",
    "        print(e)"
   ]
  },
  {
   "cell_type": "code",
   "execution_count": 36,
   "metadata": {},
   "outputs": [
    {
     "data": {
      "text/plain": [
       "2"
      ]
     },
     "execution_count": 36,
     "metadata": {},
     "output_type": "execute_result"
    }
   ],
   "source": [
    "x = [\"x\",1,2,1]\n",
    "y = 1\n",
    "occ_li(x,y)"
   ]
  },
  {
   "cell_type": "code",
   "execution_count": null,
   "metadata": {},
   "outputs": [],
   "source": []
  }
 ],
 "metadata": {
  "kernelspec": {
   "display_name": "Python 3",
   "language": "python",
   "name": "python3"
  },
  "language_info": {
   "codemirror_mode": {
    "name": "ipython",
    "version": 3
   },
   "file_extension": ".py",
   "mimetype": "text/x-python",
   "name": "python",
   "nbconvert_exporter": "python",
   "pygments_lexer": "ipython3",
   "version": "3.8.5"
  }
 },
 "nbformat": 4,
 "nbformat_minor": 4
}

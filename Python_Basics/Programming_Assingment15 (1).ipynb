{
 "cells": [
  {
   "cell_type": "code",
   "execution_count": 40,
   "id": "b2e810d5",
   "metadata": {},
   "outputs": [
    {
     "data": {
      "text/plain": [
       "'0,35,70'"
      ]
     },
     "execution_count": 40,
     "metadata": {},
     "output_type": "execute_result"
    }
   ],
   "source": [
    "\"\"\"Question 1:\n",
    "Please write a program using generator to print the numbers which can be divisible by 5 and\n",
    "7 between 0 and n in comma separated form while n is input by console.\"\"\"\n",
    "\n",
    "def div(x):\n",
    "    try:\n",
    "        l = []\n",
    "        for i in range(x+1):\n",
    "            if i%5 ==0 and i%7 == 0:\n",
    "                l.append(str(i))\n",
    "        return (',').join(l)\n",
    "    except Exception as e:\n",
    "        print(e)\n",
    "\n",
    "\n",
    "div(100)"
   ]
  },
  {
   "cell_type": "code",
   "execution_count": 41,
   "id": "eed63e53",
   "metadata": {},
   "outputs": [
    {
     "data": {
      "text/plain": [
       "'0,2,4,6,8,10'"
      ]
     },
     "execution_count": 41,
     "metadata": {},
     "output_type": "execute_result"
    }
   ],
   "source": [
    "\"\"\"Question 2:\n",
    "Please write a program using generator to print the even numbers between 0 and n in comma\n",
    "separated form while n is input by console.\"\"\"\n",
    "\n",
    "def even(x):\n",
    "    try:\n",
    "        l = []\n",
    "        for i in range(x+1):\n",
    "            if i%2 == 0:\n",
    "                l.append(str(i))\n",
    "        return (',').join(l)\n",
    "    except Exception as e:\n",
    "        print(e)\n",
    "even(10)\n"
   ]
  },
  {
   "cell_type": "code",
   "execution_count": 22,
   "id": "25bc3b1b",
   "metadata": {},
   "outputs": [],
   "source": [
    "\"\"\"Q3. The Fibonacci Sequence is computed based on the following formula:\n",
    "f(n)=0 if n=0\n",
    "f(n)=1 if n=1\n",
    "f(n)=f(n-1)+f(n-2) if n&gt;1\n",
    "Please write a program using list comprehension to print the Fibonacci Sequence in comma\n",
    "separated form with a given n input by console.\"\"\"\n",
    "\n",
    "def fib(n):\n",
    "    try:\n",
    "        l = []\n",
    "        n1,n2 =0,1\n",
    "        count = 0\n",
    "        if n <=0:\n",
    "            print('plzz enter positive number')\n",
    "        elif n == 1:\n",
    "            print(n1)\n",
    "        else:\n",
    "            while count <= n:\n",
    "                l.append(str(n1))\n",
    "                nth = n1 + n2\n",
    "                n1 = n2\n",
    "                n2 = nth \n",
    "                count += 1\n",
    "        return (',').join(l)\n",
    "    except Exception as e :\n",
    "        print(e)"
   ]
  },
  {
   "cell_type": "code",
   "execution_count": 23,
   "id": "a0077f4a",
   "metadata": {},
   "outputs": [
    {
     "data": {
      "text/plain": [
       "'0,1,1,2,3,5,8,13'"
      ]
     },
     "execution_count": 23,
     "metadata": {},
     "output_type": "execute_result"
    }
   ],
   "source": [
    "fib(7)"
   ]
  },
  {
   "cell_type": "code",
   "execution_count": 28,
   "id": "694aa0e8",
   "metadata": {},
   "outputs": [],
   "source": [
    "\"\"\"Question 4:\n",
    "Assuming that we have some email addresses in the \"username@companyname.com\"format,\n",
    "please write program to print the user name of a given email address. Both user names and\n",
    "company names are composed of letters only.\"\"\"\n",
    "\n",
    "import re\n",
    "def email(x):\n",
    "    try:\n",
    "        p = '(\\w+)@(\\w+)\\.(com)'\n",
    "        r = re.match(p,x)\n",
    "        print(r.group(1))\n",
    "    except Exception as e:\n",
    "        print(e)"
   ]
  },
  {
   "cell_type": "code",
   "execution_count": 29,
   "id": "e2096c4d",
   "metadata": {},
   "outputs": [
    {
     "name": "stdout",
     "output_type": "stream",
     "text": [
      "vijitkumar\n"
     ]
    }
   ],
   "source": [
    "email(\"vijitkumar@google.com\")"
   ]
  },
  {
   "cell_type": "code",
   "execution_count": 37,
   "id": "4acb72d7",
   "metadata": {},
   "outputs": [
    {
     "name": "stdout",
     "output_type": "stream",
     "text": [
      "The area of a square with a side length of 4 is 16\n"
     ]
    }
   ],
   "source": [
    "\"\"\"Question 5:\n",
    "Define a class named Shape and its subclass Square. The Square class has an init function\n",
    "which takes a length as argument. Both classes have a area function which can print the area\n",
    "of the shape where Shape's area is 0 by default.\"\"\"\n",
    "\n",
    "class Shape:\n",
    "    area = 0\n",
    "    def __init__(self):\n",
    "        pass\n",
    "\n",
    "\n",
    "class Square(Shape):\n",
    "\n",
    "    def __init__(self, length):\n",
    "        self.length = length\n",
    "\n",
    "    def area(self):\n",
    "        a = (self.length * self.length)\n",
    "        print('The area of a square with a side length of {} is {}'.format(self.length, a))\n",
    "\n",
    "\n",
    "s = Square(4)\n",
    "s.area()"
   ]
  },
  {
   "cell_type": "code",
   "execution_count": null,
   "id": "2540b89d",
   "metadata": {},
   "outputs": [],
   "source": []
  },
  {
   "cell_type": "code",
   "execution_count": null,
   "id": "77f0d828",
   "metadata": {},
   "outputs": [],
   "source": []
  },
  {
   "cell_type": "code",
   "execution_count": null,
   "id": "0a8ffc83",
   "metadata": {},
   "outputs": [],
   "source": []
  }
 ],
 "metadata": {
  "kernelspec": {
   "display_name": "Python 3 (ipykernel)",
   "language": "python",
   "name": "python3"
  },
  "language_info": {
   "codemirror_mode": {
    "name": "ipython",
    "version": 3
   },
   "file_extension": ".py",
   "mimetype": "text/x-python",
   "name": "python",
   "nbconvert_exporter": "python",
   "pygments_lexer": "ipython3",
   "version": "3.9.7"
  }
 },
 "nbformat": 4,
 "nbformat_minor": 5
}

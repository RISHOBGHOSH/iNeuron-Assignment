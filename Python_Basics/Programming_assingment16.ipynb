{
 "cells": [
  {
   "cell_type": "code",
   "execution_count": 1,
   "id": "b9a4a04e",
   "metadata": {},
   "outputs": [],
   "source": [
    "\"\"\"Question1. Write a function that stutters a word as if someone is struggling to read it. The\n",
    "first two letters are repeated twice with an ellipsis ... and space after each, and then the\n",
    "word is pronounced with a question mark ?.\"\"\"\n",
    "\n",
    "def stutter(x):\n",
    "    try:\n",
    "        return 2*(x[:2]+'...'+' ') + x+'?'\n",
    "    except Exception as e:\n",
    "        print(e)"
   ]
  },
  {
   "cell_type": "code",
   "execution_count": 2,
   "id": "593dc6af",
   "metadata": {},
   "outputs": [
    {
     "data": {
      "text/plain": [
       "'in... in... incredible?'"
      ]
     },
     "execution_count": 2,
     "metadata": {},
     "output_type": "execute_result"
    }
   ],
   "source": [
    "stutter(\"incredible\")"
   ]
  },
  {
   "cell_type": "code",
   "execution_count": 3,
   "id": "e0ab0338",
   "metadata": {},
   "outputs": [],
   "source": [
    "\"\"\"Question 2.Create a function that takes an angle in radians and returns the corresponding\n",
    "angle in degrees rounded to one decimal place.\"\"\"\n",
    "\n",
    "def radians_to_degree(x):\n",
    "    try:\n",
    "        s = float(x * (180/3.14159))\n",
    "        return round(s,1)\n",
    "    except Exception as e:\n",
    "        print(e)"
   ]
  },
  {
   "cell_type": "code",
   "execution_count": 4,
   "id": "083e16dd",
   "metadata": {},
   "outputs": [
    {
     "data": {
      "text/plain": [
       "1145.9"
      ]
     },
     "execution_count": 4,
     "metadata": {},
     "output_type": "execute_result"
    }
   ],
   "source": [
    "radians_to_degree(20)"
   ]
  },
  {
   "cell_type": "code",
   "execution_count": 7,
   "id": "a8f6221f",
   "metadata": {},
   "outputs": [],
   "source": [
    "\"\"\"Question 3. In this challenge, establish if a given integer num is a Curzon number. If 1 plus\n",
    "2 elevated to num is exactly divisible by 1 plus 2 multiplied by num, then num is a Curzon\n",
    "number.\n",
    "Given a non-negative integer num, implement a function that returns True if num is a Curzon\n",
    "number, or False otherwise\"\"\"\n",
    "\n",
    "def is_curzon(x):\n",
    "    try:\n",
    "        if x<0:\n",
    "            print('plzz enter positive number')\n",
    "        elif ((2 ** x)+1)%((2 * x)+1) == 0:\n",
    "            print(True)\n",
    "        else:\n",
    "            print(False)\n",
    "    except Exception as e:\n",
    "        print(e)"
   ]
  },
  {
   "cell_type": "code",
   "execution_count": 8,
   "id": "f5bb4425",
   "metadata": {},
   "outputs": [
    {
     "name": "stdout",
     "output_type": "stream",
     "text": [
      "False\n"
     ]
    }
   ],
   "source": [
    "is_curzon(10)"
   ]
  },
  {
   "cell_type": "code",
   "execution_count": 13,
   "id": "4248dc43",
   "metadata": {},
   "outputs": [],
   "source": [
    "\"\"\"Question 4.Given the side length x find the area of a hexagon.\"\"\"\n",
    "import math as md\n",
    "def area_of_hexagon(x):\n",
    "    try:\n",
    "        a = (3 * md.sqrt(3) * x**2)/2\n",
    "        return round(a,1)\n",
    "    except Exception as e:\n",
    "        print(e)"
   ]
  },
  {
   "cell_type": "code",
   "execution_count": 14,
   "id": "33369db2",
   "metadata": {},
   "outputs": [
    {
     "data": {
      "text/plain": [
       "2.6"
      ]
     },
     "execution_count": 14,
     "metadata": {},
     "output_type": "execute_result"
    }
   ],
   "source": [
    "area_of_hexagon(1)"
   ]
  },
  {
   "cell_type": "code",
   "execution_count": 23,
   "id": "87391c9b",
   "metadata": {},
   "outputs": [],
   "source": [
    "\"\"\"Question 5. Create a function that returns a base-2 (binary) representation of a base-10\n",
    "(decimal) string number. To convert is simple: ((2) means base-2 and (10) means base-10)\n",
    "010101001(2) = 1 + 8 + 32 + 128.\n",
    "Going from right to left, the value of the most right bit is 1, now from that every bit to the left\n",
    "will be x2 the value, value of an 8 bit binary numbers are (256, 128, 64, 32, 16, 8, 4, 2, 1).\"\"\"\n",
    "\n",
    "def binary(x):\n",
    "    s = bin(x)\n",
    "    return s[2:]"
   ]
  },
  {
   "cell_type": "code",
   "execution_count": 24,
   "id": "d461db5f",
   "metadata": {},
   "outputs": [
    {
     "data": {
      "text/plain": [
       "'1010'"
      ]
     },
     "execution_count": 24,
     "metadata": {},
     "output_type": "execute_result"
    }
   ],
   "source": [
    "binary(10)"
   ]
  },
  {
   "cell_type": "code",
   "execution_count": null,
   "id": "b19b15d2",
   "metadata": {},
   "outputs": [],
   "source": []
  }
 ],
 "metadata": {
  "kernelspec": {
   "display_name": "Python 3 (ipykernel)",
   "language": "python",
   "name": "python3"
  },
  "language_info": {
   "codemirror_mode": {
    "name": "ipython",
    "version": 3
   },
   "file_extension": ".py",
   "mimetype": "text/x-python",
   "name": "python",
   "nbconvert_exporter": "python",
   "pygments_lexer": "ipython3",
   "version": "3.9.7"
  }
 },
 "nbformat": 4,
 "nbformat_minor": 5
}

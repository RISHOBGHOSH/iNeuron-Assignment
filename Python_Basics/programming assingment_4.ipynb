{
 "cells": [
  {
   "cell_type": "code",
   "execution_count": 2,
   "metadata": {},
   "outputs": [
    {
     "name": "stdout",
     "output_type": "stream",
     "text": [
      "enter a number--10\n",
      "3628800\n"
     ]
    }
   ],
   "source": [
    "#1 Write a Python Program to Find the Factorial of a Number?\n",
    "n=int(input('enter a number--'))\n",
    "factorial=1\n",
    "if n<0:\n",
    "    print('factorial dose not exist')\n",
    "elif n==0:\n",
    "    print('factorial of 0 is 1')\n",
    "else:\n",
    "    for i in range(1,n+1):\n",
    "        factorial=factorial*i\n",
    "    print(factorial)"
   ]
  },
  {
   "cell_type": "code",
   "execution_count": 3,
   "metadata": {},
   "outputs": [
    {
     "name": "stdout",
     "output_type": "stream",
     "text": [
      "Enter a number --10\n",
      "10 * 1 10\n",
      "10 * 2 20\n",
      "10 * 3 30\n",
      "10 * 4 40\n",
      "10 * 5 50\n",
      "10 * 6 60\n",
      "10 * 7 70\n",
      "10 * 8 80\n",
      "10 * 9 90\n",
      "10 * 10 100\n"
     ]
    }
   ],
   "source": [
    "# 2. Write a Python Program to Display the multiplication Table?\n",
    "n= int(input('Enter a number --'))\n",
    "for i in range(1,11):\n",
    "    print(n ,'*', i, n*i)"
   ]
  },
  {
   "cell_type": "code",
   "execution_count": 4,
   "metadata": {},
   "outputs": [
    {
     "name": "stdout",
     "output_type": "stream",
     "text": [
      "[1, 1, 2, 3, 5, 8, 13, 21, 34, 55]\n"
     ]
    }
   ],
   "source": [
    "# 3. Write a Python Program to Print the Fibonacci sequence?\n",
    "a=1\n",
    "b=1\n",
    "output=[]\n",
    "for i in range(10):\n",
    "    output.append(a)\n",
    "    a,b=b, a+b\n",
    "print(output)"
   ]
  },
  {
   "cell_type": "code",
   "execution_count": 5,
   "metadata": {},
   "outputs": [
    {
     "name": "stdout",
     "output_type": "stream",
     "text": [
      "Enter a number --1452\n",
      "number is not armstrong\n"
     ]
    }
   ],
   "source": [
    "# 4. Write a Python Program to Check Armstrong Number?\n",
    "n= int(input('Enter a number --'))\n",
    "def check_arms(num):\n",
    "    oder=len(str(num))\n",
    "    sum=0\n",
    "    original=num\n",
    "    while num>0:\n",
    "        digit=num%10\n",
    "        sum+=digit**oder\n",
    "        num=num//10\n",
    "    if sum == original:\n",
    "        return True \n",
    "    return False\n",
    "if check_arms(n):\n",
    "    print('number is armstrong')\n",
    "else:\n",
    "    print('number is not armstrong')"
   ]
  },
  {
   "cell_type": "code",
   "execution_count": 6,
   "metadata": {},
   "outputs": [
    {
     "name": "stdout",
     "output_type": "stream",
     "text": [
      "enter starting number--100\n",
      "enter ending number--1000\n",
      "153\n",
      "370\n",
      "371\n",
      "407\n"
     ]
    }
   ],
   "source": [
    "# 5. Write a Python Program to Find Armstrong Number in an Interval?\n",
    "n=int(input('enter starting number--'))\n",
    "m=int(input('enter ending number--'))\n",
    "for i in range(n,m+1):\n",
    "    order=len(str(i))\n",
    "    sum=0\n",
    "    original=i\n",
    "    while original>0:\n",
    "        digit= original%10\n",
    "        sum+=digit**order\n",
    "        original=original//10\n",
    "    if i== sum:\n",
    "        print(i)"
   ]
  },
  {
   "cell_type": "code",
   "execution_count": 17,
   "metadata": {},
   "outputs": [
    {
     "name": "stdout",
     "output_type": "stream",
     "text": [
      "enter a number--45\n",
      "The sum is 1035\n"
     ]
    }
   ],
   "source": [
    "# 6. Write a Python Program to Find the Sum of Natural Numbers?\n",
    "\n",
    "\n",
    "n= int(input('enter a number--'))\n",
    "\n",
    "if n < 0:\n",
    "     print(\"Enter a positive number\")\n",
    "else:\n",
    "    sum = 0\n",
    "   # use while loop to iterate until zero\n",
    "    while n > 0:\n",
    "        sum += n\n",
    "        n=n-1\n",
    "    print(\"The sum is\", sum)\n"
   ]
  },
  {
   "cell_type": "code",
   "execution_count": null,
   "metadata": {},
   "outputs": [],
   "source": []
  },
  {
   "cell_type": "code",
   "execution_count": null,
   "metadata": {},
   "outputs": [],
   "source": []
  }
 ],
 "metadata": {
  "kernelspec": {
   "display_name": "Python 3",
   "language": "python",
   "name": "python3"
  },
  "language_info": {
   "codemirror_mode": {
    "name": "ipython",
    "version": 3
   },
   "file_extension": ".py",
   "mimetype": "text/x-python",
   "name": "python",
   "nbconvert_exporter": "python",
   "pygments_lexer": "ipython3",
   "version": "3.8.5"
  }
 },
 "nbformat": 4,
 "nbformat_minor": 4
}

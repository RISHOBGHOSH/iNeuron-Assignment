{
 "cells": [
  {
   "cell_type": "code",
   "execution_count": 30,
   "id": "4da3a783",
   "metadata": {},
   "outputs": [],
   "source": [
    "\"\"\"Question 1:\n",
    "Write a program that calculates and prints the value according to the given formula:\n",
    "Q = Square root of [(2 * C * D)/H]\n",
    "Following are the fixed values of C and H:\n",
    "C is 50. H is 30.\n",
    "D is the variable whose values should be input to your program in a comma-separated\n",
    "sequence.\"\"\"\n",
    "\n",
    "import math as md\n",
    "def squt_d(*args):\n",
    "    try:\n",
    "        C = 50\n",
    "        H = 30\n",
    "        l = []\n",
    "        for i in args:\n",
    "            s = md.sqrt((2*C*int(i))/H)\n",
    "            l.append(int(s))\n",
    "        return l\n",
    "    except Exception as e :\n",
    "        print(e)"
   ]
  },
  {
   "cell_type": "code",
   "execution_count": 31,
   "id": "e0e18d7b",
   "metadata": {},
   "outputs": [
    {
     "data": {
      "text/plain": [
       "[18, 22, 24]"
      ]
     },
     "execution_count": 31,
     "metadata": {},
     "output_type": "execute_result"
    }
   ],
   "source": [
    "squt_d(100,150,180)"
   ]
  },
  {
   "cell_type": "code",
   "execution_count": 17,
   "id": "36a72579",
   "metadata": {},
   "outputs": [],
   "source": [
    "\"\"\"Question 2:\n",
    "Write a program which takes 2 digits, X,Y as input and generates a 2-dimensional array. The\n",
    "element value in the i-th row and j-th column of the array should be i*j.\n",
    "Note: i=0,1.., X-1; j=0,1,¡Y-1.\"\"\"\n",
    "def generate_2Darray(x,y):\n",
    "    try:\n",
    "        l =[[0 for col in range(x)] for row in range(y)]\n",
    "        for row in range(y):\n",
    "            for col in range(x):\n",
    "                l[row][col]=row*col\n",
    "        return l\n",
    "    except Exception as e:\n",
    "        print(e)"
   ]
  },
  {
   "cell_type": "code",
   "execution_count": 18,
   "id": "69bd03aa",
   "metadata": {},
   "outputs": [
    {
     "data": {
      "text/plain": [
       "[[0, 0, 0, 0, 0], [0, 1, 2, 3, 4], [0, 2, 4, 6, 8]]"
      ]
     },
     "execution_count": 18,
     "metadata": {},
     "output_type": "execute_result"
    }
   ],
   "source": [
    "generate_2Darray(5,3)"
   ]
  },
  {
   "cell_type": "code",
   "execution_count": 28,
   "id": "395bfd25",
   "metadata": {},
   "outputs": [],
   "source": [
    "\"\"\"Question 3:\n",
    "Write a program that accepts a comma separated sequence of words as input and prints the\n",
    "words in a comma-separated sequence after sorting them alphabetically.\n",
    "Suppose the following input is supplied to the program:\n",
    "without,hello,bag,world\n",
    "Then, the output should be:\n",
    "bag,hello,without,world\"\"\"\n",
    "def seq(*args):\n",
    "    try:\n",
    "        l = []\n",
    "        for i in args:\n",
    "            if type(i)== str:\n",
    "                l.append(i)\n",
    "        return sorted(l)\n",
    "    except Exception as e :\n",
    "        print(e)"
   ]
  },
  {
   "cell_type": "code",
   "execution_count": 29,
   "id": "c7f1ef06",
   "metadata": {},
   "outputs": [
    {
     "data": {
      "text/plain": [
       "['bag', 'hello', 'without', 'world']"
      ]
     },
     "execution_count": 29,
     "metadata": {},
     "output_type": "execute_result"
    }
   ],
   "source": [
    "seq('without','hello','bag','world')"
   ]
  },
  {
   "cell_type": "code",
   "execution_count": 42,
   "id": "565ef12c",
   "metadata": {},
   "outputs": [],
   "source": [
    "\"\"\"Q4 .Write a program that accepts a sequence of whitespace separated words as input and prints\n",
    "the words after removing all duplicate words and sorting them alphanumerically\"\"\"\n",
    "\n",
    "def seq_alph(x):\n",
    "    try:\n",
    "        s = x.split(' ')\n",
    "        l = []\n",
    "        for i in s:\n",
    "            if i not in l:\n",
    "                l.append(i)\n",
    "        l.sort()\n",
    "        return (' ').join(l)\n",
    "    except Exception as e:\n",
    "        print(e)"
   ]
  },
  {
   "cell_type": "code",
   "execution_count": 40,
   "id": "08267dbe",
   "metadata": {},
   "outputs": [
    {
     "data": {
      "text/plain": [
       "'is my name vijit'"
      ]
     },
     "execution_count": 40,
     "metadata": {},
     "output_type": "execute_result"
    }
   ],
   "source": [
    "seq_alph('my name is vijit')"
   ]
  },
  {
   "cell_type": "code",
   "execution_count": 54,
   "id": "dba93235",
   "metadata": {},
   "outputs": [],
   "source": [
    "\"\"\"Question 5:\n",
    "Write a program that accepts a sentence and calculate the number of letters and digits.\n",
    "Suppose the following input is supplied to the program:\n",
    "hello world! 123\n",
    "Then, the output should be:\n",
    "LETTERS 10\"\"\"\n",
    "\n",
    "def count_word(x):\n",
    "    try:\n",
    "        count = 0\n",
    "        for i in x:\n",
    "            if i.isalpha():\n",
    "                count += 1\n",
    "        print('letters is {}'.format(count))\n",
    "        num = 0\n",
    "        for i in x:\n",
    "            if i.isnumeric():\n",
    "                num = num + 1\n",
    "        print('digit is {}'.format(num))\n",
    "    except Exception as e:\n",
    "        print(e)\n"
   ]
  },
  {
   "cell_type": "code",
   "execution_count": 55,
   "id": "2a1eae08",
   "metadata": {},
   "outputs": [
    {
     "name": "stdout",
     "output_type": "stream",
     "text": [
      "letters is 10\n",
      "digit is 6\n"
     ]
    }
   ],
   "source": [
    "count_word(\"hello world! 123524\")"
   ]
  },
  {
   "cell_type": "code",
   "execution_count": 60,
   "id": "62b6c84b",
   "metadata": {},
   "outputs": [],
   "source": [
    "\"\"\"Question 6:\n",
    "A website requires the users to input username and password to register. Write a program to\n",
    "check the validity of password input by users.\n",
    "Following are the criteria for checking the password:\n",
    "1. At least 1 letter between [a-z]\n",
    "2. At least 1 number between [0-9]\n",
    "1. At least 1 letter between [A-Z]\n",
    "3. At least 1 character from [$#@]\n",
    "4. Minimum length of transaction password: 6\n",
    "5. Maximum length of transaction password: 12\n",
    "Your program should accept a sequence of comma separated passwords and will check them\n",
    "according to the above criteria. Passwords that match the criteria are to be printed, each\n",
    "separated by a comma.\"\"\"\n",
    "\n",
    "import re\n",
    "def check_pass(x):\n",
    "    try:\n",
    "        s = x.split(',')\n",
    "        l = []\n",
    "        for i in s:\n",
    "            if len(i) > 6 and len(i)< 12 :\n",
    "                if re.search(\"([a-z])+\", i):\n",
    "                    if re.search(\"([A-Z])+\", i):\n",
    "                        if re.search(\"([0-9])+\", i):\n",
    "                            if re.search(\"([$#@])+\", i):\n",
    "                                l.append(i)\n",
    "        \n",
    "        return (' ').join(l)\n",
    "    except Exception as e:\n",
    "        print(e)\n",
    "    "
   ]
  },
  {
   "cell_type": "code",
   "execution_count": 61,
   "id": "8e739892",
   "metadata": {},
   "outputs": [
    {
     "data": {
      "text/plain": [
       "'ABd1234@1'"
      ]
     },
     "execution_count": 61,
     "metadata": {},
     "output_type": "execute_result"
    }
   ],
   "source": [
    "check_pass(\"ABd1234@1,a F1#,2w3E*,2We3345\")"
   ]
  },
  {
   "cell_type": "code",
   "execution_count": 1,
   "id": "91f1786b",
   "metadata": {},
   "outputs": [
    {
     "ename": "SyntaxError",
     "evalue": "invalid syntax (Temp/ipykernel_4532/1296921061.py, line 1)",
     "output_type": "error",
     "traceback": [
      "\u001b[1;36m  File \u001b[1;32m\"C:\\Users\\VIJITK~1\\AppData\\Local\\Temp/ipykernel_4532/1296921061.py\"\u001b[1;36m, line \u001b[1;32m1\u001b[0m\n\u001b[1;33m    1800 8969999\u001b[0m\n\u001b[1;37m         ^\u001b[0m\n\u001b[1;31mSyntaxError\u001b[0m\u001b[1;31m:\u001b[0m invalid syntax\n"
     ]
    }
   ],
   "source": []
  },
  {
   "cell_type": "code",
   "execution_count": null,
   "id": "359452f5",
   "metadata": {},
   "outputs": [],
   "source": []
  }
 ],
 "metadata": {
  "kernelspec": {
   "display_name": "Python 3 (ipykernel)",
   "language": "python",
   "name": "python3"
  },
  "language_info": {
   "codemirror_mode": {
    "name": "ipython",
    "version": 3
   },
   "file_extension": ".py",
   "mimetype": "text/x-python",
   "name": "python",
   "nbconvert_exporter": "python",
   "pygments_lexer": "ipython3",
   "version": "3.9.7"
  }
 },
 "nbformat": 4,
 "nbformat_minor": 5
}
